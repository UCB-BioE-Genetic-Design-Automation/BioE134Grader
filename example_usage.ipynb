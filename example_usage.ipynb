{
  "cells": [
    {
      "cell_type": "code",
      "source": [
        "%%capture\n",
        "!pip install git+https://github.com/UCB-BioE-Genetic-Design-Automation/BioE134Grader.git\n",
        "from bioe134grader.autograder import BioE134Autograder\n"
      ],
      "metadata": {
        "id": "Xx8CsEn0txw8"
      },
      "execution_count": 14,
      "outputs": []
    },
    {
      "cell_type": "code",
      "source": [
        "class Translate:\n",
        "    def initiate(self):\n",
        "        # Initialize and populate the codon to amino acid map\n",
        "        self.codon_map = {\n",
        "            'TTT': 'F', 'TTC': 'F', 'TTA': 'L', 'TTG': 'L',\n",
        "            'CTT': 'L', 'CTC': 'L', 'CTA': 'L', 'CTG': 'L',\n",
        "            'ATT': 'I', 'ATC': 'I', 'ATA': 'I', 'ATG': 'M',\n",
        "            'GTT': 'V', 'GTC': 'V', 'GTA': 'V', 'GTG': 'V',\n",
        "            'TCT': 'S', 'TCC': 'S', 'TCA': 'S', 'TCG': 'S',\n",
        "            'CCT': 'P', 'CCC': 'P', 'CCA': 'P', 'CCG': 'P',\n",
        "            'ACT': 'T', 'ACC': 'T', 'ACA': 'T', 'ACG': 'T',\n",
        "            'GCT': 'A', 'GCC': 'A', 'GCA': 'A', 'GCG': 'A',\n",
        "            'TAT': 'Y', 'TAC': 'Y', 'TAA': '*', 'TAG': '*',\n",
        "            'CAT': 'H', 'CAC': 'H', 'CAA': 'Q', 'CAG': 'Q',\n",
        "            'AAT': 'N', 'AAC': 'N', 'AAA': 'K', 'AAG': 'K',\n",
        "            'GAT': 'D', 'GAC': 'D', 'GAA': 'E', 'GAG': 'E',\n",
        "            'TGT': 'C', 'TGC': 'C', 'TGA': '*', 'TGG': 'W',\n",
        "            'CGT': 'R', 'CGC': 'R', 'CGA': 'R', 'CGG': 'R',\n",
        "            'AGT': 'S', 'AGC': 'S', 'AGA': 'R', 'AGG': 'R',\n",
        "            'GGT': 'G', 'GGC': 'G', 'GGA': 'G', 'GGG': 'G'\n",
        "        }\n",
        "\n",
        "    def run(self, dna_sequence):\n",
        "        # Validate the input sequence\n",
        "        if not all(c in 'ATCG' for c in dna_sequence) or len(dna_sequence) % 3 != 0:\n",
        "            raise ValueError(\"Invalid DNA sequence\")\n",
        "\n",
        "        # Translate the DNA sequence into a protein sequence\n",
        "        protein_sequence = ''\n",
        "        for i in range(0, len(dna_sequence), 3):\n",
        "            codon = dna_sequence[i:i+3]\n",
        "            amino_acid = self.codon_map.get(codon, '?')  # Use '?' for unknown codons\n",
        "            if amino_acid == '*':  # Stop codon\n",
        "                break\n",
        "            protein_sequence += amino_acid\n",
        "\n",
        "        return protein_sequence\n"
      ],
      "metadata": {
        "id": "wQXv6qmettUD"
      },
      "execution_count": 15,
      "outputs": []
    },
    {
      "cell_type": "code",
      "source": [
        "# Instantiate and test the autograder\n",
        "grader = BioE134Autograder()\n",
        "result = grader.grade(Translate)\n",
        "result"
      ],
      "metadata": {
        "colab": {
          "base_uri": "https://localhost:8080/",
          "height": 35
        },
        "id": "J2tim6cQvE48",
        "outputId": "f771d16a-ca05-45b5-ee38-1fa903fc706b"
      },
      "execution_count": 16,
      "outputs": [
        {
          "output_type": "execute_result",
          "data": {
            "text/plain": [
              "\"Error occurred with sequence 'ATGCGTAA': Invalid DNA sequence\""
            ],
            "application/vnd.google.colaboratory.intrinsic+json": {
              "type": "string"
            }
          },
          "metadata": {},
          "execution_count": 16
        }
      ]
    }
  ],
  "metadata": {
    "kernelspec": {
      "name": "python3",
      "display_name": "Python 3"
    },
    "language_info": {
      "name": "python"
    },
    "colab": {
      "provenance": []
    }
  },
  "nbformat": 4,
  "nbformat_minor": 0
}