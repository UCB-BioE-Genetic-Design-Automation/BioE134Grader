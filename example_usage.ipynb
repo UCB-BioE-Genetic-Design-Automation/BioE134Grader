{
    "cells": [
        {
            "cell_type": "code",
            "source": [
                "# Example usage of BioE134Grader\n",
                "from bioe134grader.autograder import BioE134Autograder\n\n",
                "class Translate:\n",
                "    def __init__(self):\n",
                "        self.codon_map = {}\n\n",
                "    def initiate(self):\n",
                "        # Populate the codon to amino acid map\n",
                "        # Example: self.codon_map['ATG'] = 'M'\n",
                "        pass\n\n",
                "    def run(self, dna_sequence):\n",
                "        # Implement the translation logic\n",
                "        # Example: return 'MXX' for 'ATGXXX'\n",
                "        pass\n\n",
                "# Instantiate and test the autograder\n",
                "grader = BioE134Autograder()\n",
                "result = grader.grade(Translate)\n",
                "print(result)"
            ],
            "metadata": {},
            "execution_count": null,
            "outputs": []
        }
    ],
    "metadata": {
        "kernelspec": {
            "name": "python3",
            "display_name": "Python 3"
        },
        "language_info": {
            "name": "python"
        }
    },
    "nbformat": 4,
    "nbformat_minor": 4
}